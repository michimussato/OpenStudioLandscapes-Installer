{
 "cells": [
  {
   "cell_type": "markdown",
   "id": "ff13ab23-4d56-4244-9d9e-e4afb103f894",
   "metadata": {},
   "source": [
    "# Installation Notebook for Ubuntu Desktop 22.04"
   ]
  },
  {
   "cell_type": "markdown",
   "id": "325693c2-3c28-4a1e-ab72-18a1b2073262",
   "metadata": {},
   "source": [
    "# Installation:\n",
    "\n",
    "```shell\n",
    "sudo apt-get install -y git python3.10-venv\n",
    "\n",
    "cd ~/git/repos\n",
    "\n",
    "git clone https://github.com/michimussato/OpenStudioLandscapes-Installer.git\n",
    "\n",
    "cd OpenStudioLandscapes-Installer/ubuntu/22.04\n",
    "\n",
    "python3.10 -m venv .venv\n",
    "source .venv/bin/activate\n",
    "\n",
    "pip install --upgrade pip setuptools setuptools_scm wheel\n",
    "\n",
    "pip install notebook\n",
    "```\n",
    "\n",
    "```shell\n",
    "jupyter notebook\n",
    "```"
   ]
  },
  {
   "cell_type": "markdown",
   "id": "d123fbe6-ea11-4b36-bb77-d0dadd8462e7",
   "metadata": {},
   "source": [
    "## Step 1\n",
    "\n",
    "Constants"
   ]
  },
  {
   "cell_type": "code",
   "execution_count": null,
   "id": "4b6c8aa2-73e2-4862-8b06-b16c4a38fe0d",
   "metadata": {},
   "outputs": [],
   "source": [
    "SHELL_SCRIPTS_PREFIX: str = \"ubuntu_desktop_2204__\"\n",
    "URL_HARBOR: str = \"http://harbor.farm.evil:80\"\n",
    "ADMIN_HARBOR: str = \"admin\"\n",
    "PASSWORD_HARBOR: str = \"Harbor12345\""
   ]
  },
  {
   "cell_type": "markdown",
   "id": "107ce9de-f353-4d5b-a0f8-27b50d5cfde4",
   "metadata": {},
   "source": [
    "## Step 2\n",
    "\n",
    "Set `OPENSTUDIOLANDSCAPES` variable so that the installer knows where to pull the source to."
   ]
  },
  {
   "cell_type": "code",
   "execution_count": null,
   "id": "3569feb8-6b92-4a1b-89dd-292d85c9b856",
   "metadata": {
    "ExecuteTime": {
     "end_time": "2025-05-10T08:50:40.663422Z",
     "start_time": "2025-05-10T08:50:22.589286Z"
    },
    "scrolled": true
   },
   "outputs": [],
   "source": [
    "import pathlib\n",
    "from getpass import getuser\n",
    "\n",
    "\n",
    "OPENSTUDIOLANDSCAPES_DIR = None\n",
    "\n",
    "while OPENSTUDIOLANDSCAPES_DIR is None:\n",
    "    default_openstudiolandscapes_base = \"~/git/repos\"\n",
    "    default_openstudiolandscapes_subdir = \"OpenStudioLandscapes\"\n",
    "\n",
    "    openstudiolandscapes_base = pathlib.Path(input(f\"Install base dir ({default_openstudiolandscapes_base}): \".strip()) or default_openstudiolandscapes_base).expanduser()\n",
    "\n",
    "    if not openstudiolandscapes_base.is_absolute():\n",
    "        print(f\"ERROR: Directory {openstudiolandscapes_base.as_posix()} is not absolute (~ is allowed).\")\n",
    "        continue\n",
    "    if not openstudiolandscapes_base.exists():\n",
    "        print(f\"ERROR: Directory {openstudiolandscapes_base.as_posix()} does not exist. Create it first.\")\n",
    "        continue\n",
    "    if openstudiolandscapes_base.is_file():\n",
    "        print(f\"ERROR: Install Directory {openstudiolandscapes_base.as_posix()} is a file. Cannot continue.\")\n",
    "        continue\n",
    "\n",
    "    try:\n",
    "        probe = pathlib.Path(openstudiolandscapes_base / \".openstudiolandscapes_probe\")\n",
    "        probe.mkdir(parents=True, exist_ok=True)\n",
    "        probe.rmdir()\n",
    "        del probe\n",
    "    except Exception as e:\n",
    "        print(f\"ERROR: Unable to write to {openstudiolandscapes_base.as_posix()}: {e}\")\n",
    "        print(f\"Make sure we have write permissions to `{openstudiolandscapes_base.as_posix()}` so that we can create a subdirectory.\")\n",
    "        print(f\"i.e `sudo chown -R {getuser()}: {openstudiolandscapes_base.as_posix()}`.\")\n",
    "        continue\n",
    "\n",
    "    openstudiolandscapes_subdir = input(f\"Install sub dir ({default_openstudiolandscapes_subdir}): \".strip()) or default_openstudiolandscapes_subdir\n",
    "    # Todo:\n",
    "    #  - [ ] Maybe some more checks here\n",
    "    OPENSTUDIOLANDSCAPES_DIR = pathlib.Path(openstudiolandscapes_base, openstudiolandscapes_subdir).expanduser()"
   ]
  },
  {
   "cell_type": "markdown",
   "id": "fccc4f97-c94a-4879-a5b8-5df6a3059ec3",
   "metadata": {
    "jupyter": {
     "source_hidden": true
    }
   },
   "source": [
    "## Step 2\n",
    "\n",
    "Source basic functions:\n",
    "- `script_run()`\n",
    "- `_get_terminal_size()`\n",
    "- `sudo_pass()`"
   ]
  },
  {
   "cell_type": "code",
   "execution_count": null,
   "id": "3d8900f8-8300-44da-a7fe-385a105c36f1",
   "metadata": {
    "jupyter": {
     "source_hidden": true
    }
   },
   "outputs": [],
   "source": [
    "import shutil\n",
    "import shlex\n",
    "import subprocess\n",
    "from getpass import getpass\n",
    "from typing import Tuple\n",
    "\n",
    "\n",
    "def script_run(\n",
    "    sudo: bool = False,\n",
    "    *,\n",
    "    script: pathlib.Path,\n",
    ") -> Tuple[bytes, bytes]:\n",
    "\n",
    "    cmd = [\n",
    "        shutil.which(\"bash\"),\n",
    "        script.as_posix(),\n",
    "    ]\n",
    "\n",
    "    if sudo:\n",
    "        cmd.insert(0, shutil.which(\"sudo\"))\n",
    "        cmd.insert(1, \"--stdin\")\n",
    "        cmd.insert(2, \"--reset-timestamp\")\n",
    "\n",
    "    with open(script.as_posix(), \"r\") as f:\n",
    "        lines = f.readlines()\n",
    "        print(\" COMMAND \".center(_get_terminal_size()[0], \"-\"))\n",
    "        print(f\" {shlex.join(cmd)} \".center(_get_terminal_size()[0], \" \"))\n",
    "        print(\" SCRIPT START \".center(_get_terminal_size()[0], \"-\"))\n",
    "        lno = 0\n",
    "        len_ = len(str(len(lines)))\n",
    "        for l in lines:\n",
    "            lno += 1\n",
    "            print(f\"{str(lno).ljust(len_)}: {l.rstrip()}\")\n",
    "        print(\" SCRIPT END \".center(_get_terminal_size()[0], \"-\"))\n",
    "\n",
    "    try:\n",
    "        proc = subprocess.run(\n",
    "            cmd,\n",
    "            input=None if not sudo else sudo_pass(),\n",
    "            check=True,\n",
    "            # cwd=script_prep.parent.as_posix(),\n",
    "            # env=os.environ,\n",
    "        )\n",
    "    except subprocess.CalledProcessError as e:\n",
    "        print(cmd)\n",
    "        # with open(script.as_posix(), \"r\") as f:\n",
    "        #     print(f.read())\n",
    "        raise e\n",
    "\n",
    "    if proc.returncode:\n",
    "        raise RuntimeError(proc)\n",
    "\n",
    "    return proc.stdout, proc.stderr\n",
    "\n",
    "\n",
    "def _get_terminal_size() -> Tuple[int, int]:\n",
    "    # https://stackoverflow.com/a/14422538\n",
    "    # https://stackoverflow.com/a/18243550\n",
    "    cols, rows = shutil.get_terminal_size((80, 20))\n",
    "    return cols, rows\n",
    "\n",
    "\n",
    "def sudo_pass() -> bytes:\n",
    "    # Todo:\n",
    "    #  - [ ] Mechanism to verify that sudo password is correct\n",
    "    #  - [ ] implement asterisks\n",
    "    print(\" ENTER PASSWORD \".center(_get_terminal_size()[0], \"=\"))\n",
    "    _sudo_pass = getpass(prompt=f\"Sudo Password for User `{getuser()}`: \")\n",
    "    return _sudo_pass.encode()"
   ]
  },
  {
   "cell_type": "markdown",
   "id": "0a844a7d-e293-4621-9d7e-363c9f045f36",
   "metadata": {},
   "source": [
    "## Step 3 - Disable Unattended Upgrades Unit\n",
    "\n",
    "Disable Unattended Upgrades `systemd` unit.\n",
    "`sudo`: yes"
   ]
  },
  {
   "cell_type": "markdown",
   "id": "9bf19558-066e-46dd-854b-f9969cd03fd2",
   "metadata": {},
   "source": [
    "### Source Write Script Function"
   ]
  },
  {
   "cell_type": "code",
   "execution_count": null,
   "id": "99c53a4b-0797-41cf-8a61-84680c9688fe",
   "metadata": {},
   "outputs": [],
   "source": [
    "import pathlib\n",
    "import tempfile\n",
    "\n",
    "\n",
    "def script_disable_unattended_upgrades() -> pathlib.Path:\n",
    "    print(\" DISABLE UNATTENDED UPGRADES \".center(_get_terminal_size()[0], \"#\"))\n",
    "    with tempfile.NamedTemporaryFile(\n",
    "            delete=False,\n",
    "            encoding=\"utf-8\",\n",
    "            prefix=\"ubuntu_2204_\",\n",
    "            suffix=\".sh\",\n",
    "            mode=\"x\",\n",
    "    ) as script:\n",
    "        script.writelines(\n",
    "            [\n",
    "                \"#!/bin/env bash\\n\",\n",
    "                \"\\n\",\n",
    "                \"\\n\",\n",
    "                \"sudo systemctl disable --now unattended-upgrades\\n\",\n",
    "            ]\n",
    "        )\n",
    "\n",
    "        script.writelines(\n",
    "            [\n",
    "                \"\\n\",\n",
    "                \"exit 0\\n\",\n",
    "            ]\n",
    "        )\n",
    "\n",
    "        return pathlib.Path(script.name)"
   ]
  },
  {
   "cell_type": "markdown",
   "id": "24cb583c-7ed2-46bf-b2b9-825aa054eb8e",
   "metadata": {},
   "source": [
    "### Run Script"
   ]
  },
  {
   "cell_type": "code",
   "execution_count": null,
   "id": "0b61eff9-af6f-49b6-8bf7-80fd0479c909",
   "metadata": {},
   "outputs": [],
   "source": [
    "ret_script_disable_unattended_upgrades = script_run(\n",
    "    sudo=True,\n",
    "    script=script_disable_unattended_upgrades(),\n",
    ")"
   ]
  },
  {
   "cell_type": "markdown",
   "id": "decbfab4-e602-485f-a1b4-3123c2bf8f5f",
   "metadata": {},
   "source": [
    "## Step 4 - Prepare System\n",
    "\n",
    "`sudo`: yes"
   ]
  },
  {
   "cell_type": "markdown",
   "id": "b128133d-742a-4a55-b5f7-7df350d7f796",
   "metadata": {},
   "source": [
    "### Source Write Script Function"
   ]
  },
  {
   "cell_type": "code",
   "execution_count": null,
   "id": "3d4c0ae5-4063-4921-b509-764dff2f6a08",
   "metadata": {},
   "outputs": [],
   "source": [
    "import pathlib\n",
    "import tempfile\n",
    "\n",
    "\n",
    "def script_prep() -> pathlib.Path:\n",
    "    print(\" PREP \".center(_get_terminal_size()[0], \"#\"))\n",
    "    with tempfile.NamedTemporaryFile(\n",
    "            delete=False,\n",
    "            encoding=\"utf-8\",\n",
    "            prefix=SHELL_SCRIPTS_PREFIX,\n",
    "            suffix=\".sh\",\n",
    "            mode=\"x\",\n",
    "    ) as script:\n",
    "\n",
    "        prep_pkgs = [\n",
    "            \"openssh-server\",\n",
    "            \"git\",\n",
    "            \"htop\",\n",
    "            \"vim\",\n",
    "            \"graphviz\",\n",
    "        ]\n",
    "        script.writelines(\n",
    "            [\n",
    "                \"#!/bin/env bash\\n\",\n",
    "                \"\\n\",\n",
    "                \"\\n\",\n",
    "                \"sudo apt-get update\\n\",\n",
    "                \"sudo apt-get upgrade -y\\n\",\n",
    "                \"\\n\",\n",
    "                f\"sudo apt-get install --no-install-recommends -y {' '.join(prep_pkgs)}\\n\",\n",
    "                \"\\n\",\n",
    "                \"sudo apt-get -y autoremove\\n\",\n",
    "                \"sudo apt-get clean\\n\",\n",
    "                \"\\n\",\n",
    "                \"sudo systemctl enable --now ssh\\n\",\n",
    "            ]\n",
    "        )\n",
    "\n",
    "        script.writelines(\n",
    "            [\n",
    "                \"\\n\",\n",
    "                \"exit 0\\n\",\n",
    "            ]\n",
    "        )\n",
    "\n",
    "        return pathlib.Path(script.name)"
   ]
  },
  {
   "cell_type": "markdown",
   "id": "d538aca7-7415-406d-a076-e0dfc2b9f00c",
   "metadata": {},
   "source": [
    "### Run Script"
   ]
  },
  {
   "cell_type": "code",
   "execution_count": null,
   "id": "33dfe922-c5fb-4f0f-8823-ce2164692b7a",
   "metadata": {},
   "outputs": [],
   "source": [
    "ret_script_prep = script_run(\n",
    "    sudo=True,\n",
    "    script=script_prep(),\n",
    ")"
   ]
  },
  {
   "cell_type": "markdown",
   "id": "1fe4a799-685d-46da-872a-ef308cd4bd16",
   "metadata": {},
   "source": [
    "## Step 5 - Clone OpenStudioLandscapes Repository\n",
    "\n",
    "`sudo`: no"
   ]
  },
  {
   "cell_type": "markdown",
   "id": "fbdd584b-9e68-41ed-ad59-339af72038be",
   "metadata": {},
   "source": [
    "### Source Write Script Function"
   ]
  },
  {
   "cell_type": "code",
   "execution_count": null,
   "id": "4ed1379c-bdde-43e3-8364-8549cc0b80c4",
   "metadata": {},
   "outputs": [],
   "source": [
    "import pathlib\n",
    "import tempfile\n",
    "\n",
    "\n",
    "def script_clone_openstudiolandscapes(\n",
    "    openstudiolandscapes_repo_dir: pathlib.Path,\n",
    "    ssh_key_file: pathlib.Path = pathlib.Path(\"~/.ssh/id_ed25519\").expanduser(),\n",
    "    known_hosts_file: pathlib.Path = pathlib.Path(\"~/.ssh/known_hosts\").expanduser(),\n",
    ") -> pathlib.Path:\n",
    "\n",
    "    # Todo\n",
    "    #  - [ ] We *could* add some checks here in case git clone fails.\n",
    "    #        However, ssh authentication is only necessary while repo\n",
    "    #        private.\n",
    "    #  - [ ] git clone fails silently if ~/git/repos/OpenStudioLandscapes\n",
    "    #        already exists. FIX!\n",
    "\n",
    "    print(\" CLONE OPENSTUDIOLANDSCAPES \".center(_get_terminal_size()[0], \"#\"))\n",
    "\n",
    "    print(\" ENTER EMAIL \".center(_get_terminal_size()[0], \"=\"))\n",
    "    email = input(\"Enter your email: \")\n",
    "\n",
    "    with tempfile.NamedTemporaryFile(\n",
    "            delete=False,\n",
    "            encoding=\"utf-8\",\n",
    "            prefix=SHELL_SCRIPTS_PREFIX,\n",
    "            suffix=\".sh\",\n",
    "            mode=\"x\",\n",
    "    ) as script:\n",
    "        script.writelines(\n",
    "            [\n",
    "                \"#!/bin/env bash\\n\",\n",
    "                \"\\n\",\n",
    "                \"\\n\",\n",
    "                # f\"{shutil.which('ssh-keygen')}\\n\",\n",
    "                # <<< n means don't overwrite\n",
    "                f\"ssh-keygen -f {ssh_key_file.as_posix()} -N '' -t ed25519 -C \\\"{email}\\\" <<< n\\n\",\n",
    "                \"eval \\\"$(ssh-agent -s)\\\"\\n\",\n",
    "                f\"ssh-add {ssh_key_file.as_posix()}\\n\",\n",
    "                \"\\n\",\n",
    "                \"echo \\\"Copy/Paste the following Public Key to GitHub:\\\"\\n\",\n",
    "                \"echo \\\"https://github.com/settings/ssh/new\\\"\\n\",\n",
    "                f\"cat {ssh_key_file.as_posix()}.pub\\n\",\n",
    "                \"\\n\",\n",
    "                \"while [[ \\\"$choice_ssh\\\" != [Yy]* ]]; do\\n\",\n",
    "                \"    read -r -e -p \\\"Type [Yy]es when ready... \\\" choice_ssh\\n\",\n",
    "                \"done\\n\",\n",
    "                \"\\n\",\n",
    "                f\"ssh-keyscan github.com >> {known_hosts_file.as_posix()}\\n\",\n",
    "            ]\n",
    "        )\n",
    "\n",
    "        # If openstudiolandscapes_repo_dir already exists, we move it out\n",
    "        # of the way. At least until there is a more finegrained solution\n",
    "        # in place to deal with existing installations.\n",
    "        script.writelines(\n",
    "            [\n",
    "                \"\\n\",\n",
    "                f\"if [ -d {openstudiolandscapes_repo_dir.as_posix()} ]; then\\n\",\n",
    "                \"    echo \\\"Backing up previous Installation...\\\"\\n\",\n",
    "                f\"    mv {openstudiolandscapes_repo_dir.as_posix()} {openstudiolandscapes_repo_dir.as_posix()}_$(date +\\\"%Y-%m-%d_%H-%m-%S\\\")\\n\",\n",
    "                \"fi\\n\",\n",
    "            ]\n",
    "        )\n",
    "\n",
    "        script.writelines(\n",
    "            [\n",
    "                \"\\n\",\n",
    "                f\"if [ ! -d {openstudiolandscapes_repo_dir.as_posix()} ]; then\\n\",\n",
    "                f\"    mkdir -p {openstudiolandscapes_repo_dir.as_posix()}\\n\",\n",
    "                \"fi\\n\",\n",
    "                f\"git -C {openstudiolandscapes_repo_dir.parent.as_posix()} clone --tags git@github.com:michimussato/OpenStudioLandscapes.git\\n\",\n",
    "            ]\n",
    "        )\n",
    "\n",
    "        script.writelines(\n",
    "            [\n",
    "                \"\\n\",\n",
    "                \"exit 0\\n\",\n",
    "            ]\n",
    "        )\n",
    "\n",
    "        return pathlib.Path(script.name)"
   ]
  },
  {
   "cell_type": "markdown",
   "id": "4ae16ed0-2e9f-486a-8bb7-a65afb8894de",
   "metadata": {},
   "source": [
    "### Run Script"
   ]
  },
  {
   "cell_type": "code",
   "execution_count": null,
   "id": "1b5121fc-a96c-4290-8b06-36a3bafb57f9",
   "metadata": {},
   "outputs": [],
   "source": [
    "ret_script_clone_openstudiolandscapes = script_run(\n",
    "    sudo=False,\n",
    "    script=script_clone_openstudiolandscapes(\n",
    "        openstudiolandscapes_repo_dir=OPENSTUDIOLANDSCAPES_DIR,\n",
    "    ),\n",
    ")"
   ]
  }
 ],
 "metadata": {
  "kernelspec": {
   "display_name": "Python 3 (ipykernel)",
   "language": "python",
   "name": "python3"
  },
  "language_info": {
   "codemirror_mode": {
    "name": "ipython",
    "version": 3
   },
   "file_extension": ".py",
   "mimetype": "text/x-python",
   "name": "python",
   "nbconvert_exporter": "python",
   "pygments_lexer": "ipython3",
   "version": "3.8.20"
  }
 },
 "nbformat": 4,
 "nbformat_minor": 5
}
