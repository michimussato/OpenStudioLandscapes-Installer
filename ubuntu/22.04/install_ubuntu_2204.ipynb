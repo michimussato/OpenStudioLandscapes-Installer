{
 "cells": [
  {
   "cell_type": "markdown",
   "id": "ff13ab23-4d56-4244-9d9e-e4afb103f894",
   "metadata": {},
   "source": [
    "# Installation Notebook for Ubuntu Desktop 22.04"
   ]
  },
  {
   "cell_type": "markdown",
   "id": "325693c2-3c28-4a1e-ab72-18a1b2073262",
   "metadata": {},
   "source": [
    "# Installation:\n",
    "\n",
    "```shell\n",
    "sudo apt-get install -y git python3.10-venv\n",
    "\n",
    "cd ~/git/repos\n",
    "\n",
    "git clone https://github.com/michimussato/OpenStudioLandscapes-Installer.git\n",
    "\n",
    "cd OpenStudioLandscapes-Installer/ubuntu/22.04\n",
    "\n",
    "python3.10 -m venv .venv\n",
    "source .venv/bin/activate\n",
    "\n",
    "pip install --upgrade pip setuptools setuptools_scm wheel\n",
    "\n",
    "pip install notebook\n",
    "```\n",
    "\n",
    "```shell\n",
    "jupyter notebook\n",
    "```"
   ]
  },
  {
   "cell_type": "markdown",
   "id": "d123fbe6-ea11-4b36-bb77-d0dadd8462e7",
   "metadata": {},
   "source": [
    "## Step 1\n",
    "\n",
    "Constants"
   ]
  },
  {
   "cell_type": "code",
   "execution_count": 1,
   "id": "4b6c8aa2-73e2-4862-8b06-b16c4a38fe0d",
   "metadata": {},
   "outputs": [],
   "source": [
    "SHELL_SCRIPTS_PREFIX: str = \"ubuntu_desktop_2204__\"\n",
    "URL_HARBOR: str = \"http://harbor.farm.evil:80\"\n",
    "ADMIN_HARBOR: str = \"admin\"\n",
    "PASSWORD_HARBOR: str = \"Harbor12345\""
   ]
  },
  {
   "cell_type": "markdown",
   "id": "107ce9de-f353-4d5b-a0f8-27b50d5cfde4",
   "metadata": {},
   "source": [
    "## Step 2\n",
    "\n",
    "Set `OPENSTUDIOLANDSCAPES` variable so that the installer knows where to pull the source to."
   ]
  },
  {
   "cell_type": "code",
   "execution_count": 2,
   "id": "3569feb8-6b92-4a1b-89dd-292d85c9b856",
   "metadata": {
    "ExecuteTime": {
     "end_time": "2025-05-10T08:50:40.663422Z",
     "start_time": "2025-05-10T08:50:22.589286Z"
    },
    "scrolled": true
   },
   "outputs": [
    {
     "name": "stdin",
     "output_type": "stream",
     "text": [
      "Install base dir (~/git/repos): ~/git/repos/TEST\n",
      "Install sub dir (OpenStudioLandscapes): \n"
     ]
    }
   ],
   "source": [
    "import pathlib\n",
    "from getpass import getuser\n",
    "\n",
    "\n",
    "OPENSTUDIOLANDSCAPES_DIR = None\n",
    "\n",
    "while OPENSTUDIOLANDSCAPES_DIR is None:\n",
    "    default_openstudiolandscapes_base = \"~/git/repos\"\n",
    "    default_openstudiolandscapes_subdir = \"OpenStudioLandscapes\"\n",
    "\n",
    "    openstudiolandscapes_base = pathlib.Path(input(f\"Install base dir ({default_openstudiolandscapes_base}): \".strip()) or default_openstudiolandscapes_base).expanduser()\n",
    "\n",
    "    if not openstudiolandscapes_base.is_absolute():\n",
    "        print(f\"ERROR: Directory {openstudiolandscapes_base.as_posix()} is not absolute (~ is allowed).\")\n",
    "        continue\n",
    "    if not openstudiolandscapes_base.exists():\n",
    "        print(f\"ERROR: Directory {openstudiolandscapes_base.as_posix()} does not exist. Create it first.\")\n",
    "        continue\n",
    "    if openstudiolandscapes_base.is_file():\n",
    "        print(f\"ERROR: Install Directory {openstudiolandscapes_base.as_posix()} is a file. Cannot continue.\")\n",
    "        continue\n",
    "\n",
    "    try:\n",
    "        probe = pathlib.Path(openstudiolandscapes_base / \".openstudiolandscapes_probe\")\n",
    "        probe.mkdir(parents=True, exist_ok=True)\n",
    "        probe.rmdir()\n",
    "        del probe\n",
    "    except Exception as e:\n",
    "        print(f\"ERROR: Unable to write to {openstudiolandscapes_base.as_posix()}: {e}\")\n",
    "        print(f\"Make sure we have write permissions to `{openstudiolandscapes_base.as_posix()}` so that we can create a subdirectory.\")\n",
    "        print(f\"i.e `sudo chown -R {getuser()}: {openstudiolandscapes_base.as_posix()}`.\")\n",
    "        continue\n",
    "\n",
    "    openstudiolandscapes_subdir = input(f\"Install sub dir ({default_openstudiolandscapes_subdir}): \".strip()) or default_openstudiolandscapes_subdir\n",
    "    # Todo:\n",
    "    #  - [ ] Maybe some more checks here\n",
    "    OPENSTUDIOLANDSCAPES_DIR = pathlib.Path(openstudiolandscapes_base, openstudiolandscapes_subdir).expanduser()"
   ]
  },
  {
   "cell_type": "markdown",
   "id": "fccc4f97-c94a-4879-a5b8-5df6a3059ec3",
   "metadata": {
    "jupyter": {
     "source_hidden": true
    }
   },
   "source": [
    "## Step 2\n",
    "\n",
    "Source basic functions:\n",
    "- `script_run()`\n",
    "- `_get_terminal_size()`\n",
    "- `sudo_pass()`"
   ]
  },
  {
   "cell_type": "code",
   "execution_count": 3,
   "id": "3d8900f8-8300-44da-a7fe-385a105c36f1",
   "metadata": {
    "jupyter": {
     "source_hidden": true
    }
   },
   "outputs": [],
   "source": [
    "import shutil\n",
    "import shlex\n",
    "import subprocess\n",
    "from getpass import getpass\n",
    "from typing import Tuple\n",
    "\n",
    "\n",
    "def script_run(\n",
    "    sudo: bool = False,\n",
    "    *,\n",
    "    script: pathlib.Path,\n",
    ") -> Tuple[bytes, bytes]:\n",
    "\n",
    "    cmd = [\n",
    "        shutil.which(\"bash\"),\n",
    "        script.as_posix(),\n",
    "    ]\n",
    "\n",
    "    if sudo:\n",
    "        cmd.insert(0, shutil.which(\"sudo\"))\n",
    "        cmd.insert(1, \"--stdin\")\n",
    "        cmd.insert(2, \"--reset-timestamp\")\n",
    "\n",
    "    with open(script.as_posix(), \"r\") as f:\n",
    "        lines = f.readlines()\n",
    "        print(\" COMMAND \".center(_get_terminal_size()[0], \"-\"))\n",
    "        print(f\" {shlex.join(cmd)} \".center(_get_terminal_size()[0], \" \"))\n",
    "        print(\" SCRIPT START \".center(_get_terminal_size()[0], \"-\"))\n",
    "        lno = 0\n",
    "        len_ = len(str(len(lines)))\n",
    "        for l in lines:\n",
    "            lno += 1\n",
    "            print(f\"{str(lno).ljust(len_)}: {l.rstrip()}\")\n",
    "        print(\" SCRIPT END \".center(_get_terminal_size()[0], \"-\"))\n",
    "\n",
    "    try:\n",
    "        proc = subprocess.run(\n",
    "            cmd,\n",
    "            input=None if not sudo else sudo_pass(),\n",
    "            check=True,\n",
    "            # cwd=script_prep.parent.as_posix(),\n",
    "            # env=os.environ,\n",
    "        )\n",
    "    except subprocess.CalledProcessError as e:\n",
    "        print(cmd)\n",
    "        # with open(script.as_posix(), \"r\") as f:\n",
    "        #     print(f.read())\n",
    "        raise e\n",
    "\n",
    "    if proc.returncode:\n",
    "        raise RuntimeError(proc)\n",
    "\n",
    "    return proc.stdout, proc.stderr\n",
    "\n",
    "\n",
    "def _get_terminal_size() -> Tuple[int, int]:\n",
    "    # https://stackoverflow.com/a/14422538\n",
    "    # https://stackoverflow.com/a/18243550\n",
    "    cols, rows = shutil.get_terminal_size((80, 20))\n",
    "    return cols, rows\n",
    "\n",
    "\n",
    "def sudo_pass() -> bytes:\n",
    "    # Todo:\n",
    "    #  - [ ] Mechanism to verify that sudo password is correct\n",
    "    #  - [ ] implement asterisks\n",
    "    print(\" ENTER PASSWORD \".center(_get_terminal_size()[0], \"=\"))\n",
    "    _sudo_pass = getpass(prompt=f\"Sudo Password for User `{getuser()}`: \")\n",
    "    return _sudo_pass.encode()"
   ]
  },
  {
   "cell_type": "markdown",
   "id": "0a844a7d-e293-4621-9d7e-363c9f045f36",
   "metadata": {},
   "source": [
    "## Step 3 - Disable Unattended Upgrades Unit\n",
    "\n",
    "Disable Unattended Upgrades `systemd` unit.\n",
    "`sudo`: yes"
   ]
  },
  {
   "cell_type": "markdown",
   "id": "9bf19558-066e-46dd-854b-f9969cd03fd2",
   "metadata": {},
   "source": [
    "### Source Write Script Function"
   ]
  },
  {
   "cell_type": "code",
   "execution_count": 4,
   "id": "99c53a4b-0797-41cf-8a61-84680c9688fe",
   "metadata": {},
   "outputs": [],
   "source": [
    "import pathlib\n",
    "import tempfile\n",
    "\n",
    "\n",
    "def script_disable_unattended_upgrades() -> pathlib.Path:\n",
    "    print(\" DISABLE UNATTENDED UPGRADES \".center(_get_terminal_size()[0], \"#\"))\n",
    "    with tempfile.NamedTemporaryFile(\n",
    "            delete=False,\n",
    "            encoding=\"utf-8\",\n",
    "            prefix=\"ubuntu_2204_\",\n",
    "            suffix=\".sh\",\n",
    "            mode=\"x\",\n",
    "    ) as script:\n",
    "        script.writelines(\n",
    "            [\n",
    "                \"#!/bin/env bash\\n\",\n",
    "                \"\\n\",\n",
    "                \"\\n\",\n",
    "                \"sudo systemctl disable --now unattended-upgrades\\n\",\n",
    "            ]\n",
    "        )\n",
    "\n",
    "        script.writelines(\n",
    "            [\n",
    "                \"\\n\",\n",
    "                \"exit 0\\n\",\n",
    "            ]\n",
    "        )\n",
    "\n",
    "        return pathlib.Path(script.name)"
   ]
  },
  {
   "cell_type": "markdown",
   "id": "24cb583c-7ed2-46bf-b2b9-825aa054eb8e",
   "metadata": {},
   "source": [
    "### Run Script"
   ]
  },
  {
   "cell_type": "code",
   "execution_count": 5,
   "id": "0b61eff9-af6f-49b6-8bf7-80fd0479c909",
   "metadata": {
    "collapsed": true,
    "jupyter": {
     "outputs_hidden": true
    }
   },
   "outputs": [
    {
     "name": "stdout",
     "output_type": "stream",
     "text": [
      "######################### DISABLE UNATTENDED UPGRADES ##########################\n",
      "----------------------------------- COMMAND ------------------------------------\n",
      " /usr/bin/sudo --stdin --reset-timestamp /usr/bin/bash /tmp/ubuntu_2204_b5c_assy.sh \n",
      "--------------------------------- SCRIPT START ---------------------------------\n",
      "1: #!/bin/env bash\n",
      "2: \n",
      "3: \n",
      "4: sudo systemctl disable --now unattended-upgrades\n",
      "5: \n",
      "6: exit 0\n",
      "---------------------------------- SCRIPT END ----------------------------------\n",
      "================================ ENTER PASSWORD ================================\n"
     ]
    },
    {
     "name": "stdin",
     "output_type": "stream",
     "text": [
      "Sudo Password for User `michael`:  ········\n"
     ]
    },
    {
     "name": "stderr",
     "output_type": "stream",
     "text": [
      "[sudo] password for michael: Failed to disable unit: Unit unattended-upgrades.service does not exist\n"
     ]
    }
   ],
   "source": [
    "ret_script_disable_unattended_upgrades = script_run(\n",
    "    sudo=True,\n",
    "    script=script_disable_unattended_upgrades(),\n",
    ")"
   ]
  },
  {
   "cell_type": "markdown",
   "id": "decbfab4-e602-485f-a1b4-3123c2bf8f5f",
   "metadata": {},
   "source": [
    "## Step 4 - Prepare System\n",
    "\n",
    "`sudo`: yes"
   ]
  },
  {
   "cell_type": "markdown",
   "id": "b128133d-742a-4a55-b5f7-7df350d7f796",
   "metadata": {},
   "source": [
    "### Source Write Script Function"
   ]
  },
  {
   "cell_type": "code",
   "execution_count": 7,
   "id": "3d4c0ae5-4063-4921-b509-764dff2f6a08",
   "metadata": {},
   "outputs": [],
   "source": [
    "import pathlib\n",
    "import tempfile\n",
    "\n",
    "\n",
    "def script_prep() -> pathlib.Path:\n",
    "    print(\" PREP \".center(_get_terminal_size()[0], \"#\"))\n",
    "    with tempfile.NamedTemporaryFile(\n",
    "            delete=False,\n",
    "            encoding=\"utf-8\",\n",
    "            prefix=SHELL_SCRIPTS_PREFIX,\n",
    "            suffix=\".sh\",\n",
    "            mode=\"x\",\n",
    "    ) as script:\n",
    "\n",
    "        prep_pkgs = [\n",
    "            \"openssh-server\",\n",
    "            \"git\",\n",
    "            \"htop\",\n",
    "            \"vim\",\n",
    "            \"graphviz\",\n",
    "        ]\n",
    "        script.writelines(\n",
    "            [\n",
    "                \"#!/bin/env bash\\n\",\n",
    "                \"\\n\",\n",
    "                \"\\n\",\n",
    "                \"sudo apt-get update\\n\",\n",
    "                \"sudo apt-get upgrade -y\\n\",\n",
    "                \"\\n\",\n",
    "                f\"sudo apt-get install --no-install-recommends -y {' '.join(prep_pkgs)}\\n\",\n",
    "                \"\\n\",\n",
    "                \"sudo apt-get -y autoremove\\n\",\n",
    "                \"sudo apt-get clean\\n\",\n",
    "                \"\\n\",\n",
    "                \"sudo systemctl enable --now ssh\\n\",\n",
    "            ]\n",
    "        )\n",
    "\n",
    "        script.writelines(\n",
    "            [\n",
    "                \"\\n\",\n",
    "                \"exit 0\\n\",\n",
    "            ]\n",
    "        )\n",
    "\n",
    "        return pathlib.Path(script.name)"
   ]
  },
  {
   "cell_type": "markdown",
   "id": "d538aca7-7415-406d-a076-e0dfc2b9f00c",
   "metadata": {},
   "source": [
    "### Run Script"
   ]
  },
  {
   "cell_type": "code",
   "execution_count": 8,
   "id": "33dfe922-c5fb-4f0f-8823-ce2164692b7a",
   "metadata": {},
   "outputs": [
    {
     "name": "stdout",
     "output_type": "stream",
     "text": [
      "##################################### PREP #####################################\n",
      "----------------------------------- COMMAND ------------------------------------\n",
      " /usr/bin/sudo --stdin --reset-timestamp /usr/bin/bash /tmp/ubuntu_desktop_2204__11unx7kh.sh \n",
      "--------------------------------- SCRIPT START ---------------------------------\n",
      "1 : #!/bin/env bash\n",
      "2 : \n",
      "3 : \n",
      "4 : sudo apt-get update\n",
      "5 : sudo apt-get upgrade -y\n",
      "6 : \n",
      "7 : sudo apt-get install --no-install-recommends -y openssh-server git htop vim graphviz\n",
      "8 : \n",
      "9 : sudo apt-get -y autoremove\n",
      "10: sudo apt-get clean\n",
      "11: \n",
      "12: sudo systemctl enable --now ssh\n",
      "13: \n",
      "14: exit 0\n",
      "---------------------------------- SCRIPT END ----------------------------------\n",
      "================================ ENTER PASSWORD ================================\n"
     ]
    },
    {
     "name": "stdin",
     "output_type": "stream",
     "text": [
      "Sudo Password for User `michael`:  ········\n"
     ]
    },
    {
     "name": "stderr",
     "output_type": "stream",
     "text": [
      "[sudo] password for michael: Sorry, try again.\n",
      "[sudo] password for michael: \n",
      "sudo: no password was provided\n",
      "sudo: 1 incorrect password attempt\n"
     ]
    },
    {
     "name": "stdout",
     "output_type": "stream",
     "text": [
      "['/usr/bin/sudo', '--stdin', '--reset-timestamp', '/usr/bin/bash', '/tmp/ubuntu_desktop_2204__11unx7kh.sh']\n"
     ]
    },
    {
     "ename": "CalledProcessError",
     "evalue": "Command '['/usr/bin/sudo', '--stdin', '--reset-timestamp', '/usr/bin/bash', '/tmp/ubuntu_desktop_2204__11unx7kh.sh']' returned non-zero exit status 1.",
     "output_type": "error",
     "traceback": [
      "\u001b[0;31m---------------------------------------------------------------------------\u001b[0m",
      "\u001b[0;31mCalledProcessError\u001b[0m                        Traceback (most recent call last)",
      "Cell \u001b[0;32mIn[8], line 1\u001b[0m\n\u001b[0;32m----> 1\u001b[0m ret_script_prep \u001b[38;5;241m=\u001b[39m \u001b[43mscript_run\u001b[49m\u001b[43m(\u001b[49m\n\u001b[1;32m      2\u001b[0m \u001b[43m    \u001b[49m\u001b[43msudo\u001b[49m\u001b[38;5;241;43m=\u001b[39;49m\u001b[38;5;28;43;01mTrue\u001b[39;49;00m\u001b[43m,\u001b[49m\n\u001b[1;32m      3\u001b[0m \u001b[43m    \u001b[49m\u001b[43mscript\u001b[49m\u001b[38;5;241;43m=\u001b[39;49m\u001b[43mscript_prep\u001b[49m\u001b[43m(\u001b[49m\u001b[43m)\u001b[49m\u001b[43m,\u001b[49m\n\u001b[1;32m      4\u001b[0m \u001b[43m)\u001b[49m\n",
      "Cell \u001b[0;32mIn[3], line 48\u001b[0m, in \u001b[0;36mscript_run\u001b[0;34m(sudo, script)\u001b[0m\n\u001b[1;32m     45\u001b[0m     \u001b[38;5;28mprint\u001b[39m(cmd)\n\u001b[1;32m     46\u001b[0m     \u001b[38;5;66;03m# with open(script.as_posix(), \"r\") as f:\u001b[39;00m\n\u001b[1;32m     47\u001b[0m     \u001b[38;5;66;03m#     print(f.read())\u001b[39;00m\n\u001b[0;32m---> 48\u001b[0m     \u001b[38;5;28;01mraise\u001b[39;00m e\n\u001b[1;32m     50\u001b[0m \u001b[38;5;28;01mif\u001b[39;00m proc\u001b[38;5;241m.\u001b[39mreturncode:\n\u001b[1;32m     51\u001b[0m     \u001b[38;5;28;01mraise\u001b[39;00m \u001b[38;5;167;01mRuntimeError\u001b[39;00m(proc)\n",
      "Cell \u001b[0;32mIn[3], line 37\u001b[0m, in \u001b[0;36mscript_run\u001b[0;34m(sudo, script)\u001b[0m\n\u001b[1;32m     34\u001b[0m     \u001b[38;5;28mprint\u001b[39m(\u001b[38;5;124m\"\u001b[39m\u001b[38;5;124m SCRIPT END \u001b[39m\u001b[38;5;124m\"\u001b[39m\u001b[38;5;241m.\u001b[39mcenter(_get_terminal_size()[\u001b[38;5;241m0\u001b[39m], \u001b[38;5;124m\"\u001b[39m\u001b[38;5;124m-\u001b[39m\u001b[38;5;124m\"\u001b[39m))\n\u001b[1;32m     36\u001b[0m \u001b[38;5;28;01mtry\u001b[39;00m:\n\u001b[0;32m---> 37\u001b[0m     proc \u001b[38;5;241m=\u001b[39m \u001b[43msubprocess\u001b[49m\u001b[38;5;241;43m.\u001b[39;49m\u001b[43mrun\u001b[49m\u001b[43m(\u001b[49m\n\u001b[1;32m     38\u001b[0m \u001b[43m        \u001b[49m\u001b[43mcmd\u001b[49m\u001b[43m,\u001b[49m\n\u001b[1;32m     39\u001b[0m \u001b[43m        \u001b[49m\u001b[38;5;28;43minput\u001b[39;49m\u001b[38;5;241;43m=\u001b[39;49m\u001b[38;5;28;43;01mNone\u001b[39;49;00m\u001b[43m \u001b[49m\u001b[38;5;28;43;01mif\u001b[39;49;00m\u001b[43m \u001b[49m\u001b[38;5;129;43;01mnot\u001b[39;49;00m\u001b[43m \u001b[49m\u001b[43msudo\u001b[49m\u001b[43m \u001b[49m\u001b[38;5;28;43;01melse\u001b[39;49;00m\u001b[43m \u001b[49m\u001b[43msudo_pass\u001b[49m\u001b[43m(\u001b[49m\u001b[43m)\u001b[49m\u001b[43m,\u001b[49m\n\u001b[1;32m     40\u001b[0m \u001b[43m        \u001b[49m\u001b[43mcheck\u001b[49m\u001b[38;5;241;43m=\u001b[39;49m\u001b[38;5;28;43;01mTrue\u001b[39;49;00m\u001b[43m,\u001b[49m\n\u001b[1;32m     41\u001b[0m \u001b[43m        \u001b[49m\u001b[38;5;66;43;03m# cwd=script_prep.parent.as_posix(),\u001b[39;49;00m\n\u001b[1;32m     42\u001b[0m \u001b[43m        \u001b[49m\u001b[38;5;66;43;03m# env=os.environ,\u001b[39;49;00m\n\u001b[1;32m     43\u001b[0m \u001b[43m    \u001b[49m\u001b[43m)\u001b[49m\n\u001b[1;32m     44\u001b[0m \u001b[38;5;28;01mexcept\u001b[39;00m subprocess\u001b[38;5;241m.\u001b[39mCalledProcessError \u001b[38;5;28;01mas\u001b[39;00m e:\n\u001b[1;32m     45\u001b[0m     \u001b[38;5;28mprint\u001b[39m(cmd)\n",
      "File \u001b[0;32m/usr/lib/python3.8/subprocess.py:516\u001b[0m, in \u001b[0;36mrun\u001b[0;34m(input, capture_output, timeout, check, *popenargs, **kwargs)\u001b[0m\n\u001b[1;32m    514\u001b[0m     retcode \u001b[38;5;241m=\u001b[39m process\u001b[38;5;241m.\u001b[39mpoll()\n\u001b[1;32m    515\u001b[0m     \u001b[38;5;28;01mif\u001b[39;00m check \u001b[38;5;129;01mand\u001b[39;00m retcode:\n\u001b[0;32m--> 516\u001b[0m         \u001b[38;5;28;01mraise\u001b[39;00m CalledProcessError(retcode, process\u001b[38;5;241m.\u001b[39margs,\n\u001b[1;32m    517\u001b[0m                                  output\u001b[38;5;241m=\u001b[39mstdout, stderr\u001b[38;5;241m=\u001b[39mstderr)\n\u001b[1;32m    518\u001b[0m \u001b[38;5;28;01mreturn\u001b[39;00m CompletedProcess(process\u001b[38;5;241m.\u001b[39margs, retcode, stdout, stderr)\n",
      "\u001b[0;31mCalledProcessError\u001b[0m: Command '['/usr/bin/sudo', '--stdin', '--reset-timestamp', '/usr/bin/bash', '/tmp/ubuntu_desktop_2204__11unx7kh.sh']' returned non-zero exit status 1."
     ]
    }
   ],
   "source": [
    "ret_script_prep = script_run(\n",
    "    sudo=True,\n",
    "    script=script_prep(),\n",
    ")"
   ]
  },
  {
   "cell_type": "code",
   "execution_count": null,
   "id": "400d3001-e679-4d43-8a2f-aad559d9abb9",
   "metadata": {},
   "outputs": [],
   "source": []
  }
 ],
 "metadata": {
  "kernelspec": {
   "display_name": "Python 3 (ipykernel)",
   "language": "python",
   "name": "python3"
  },
  "language_info": {
   "codemirror_mode": {
    "name": "ipython",
    "version": 3
   },
   "file_extension": ".py",
   "mimetype": "text/x-python",
   "name": "python",
   "nbconvert_exporter": "python",
   "pygments_lexer": "ipython3",
   "version": "3.8.20"
  }
 },
 "nbformat": 4,
 "nbformat_minor": 5
}
